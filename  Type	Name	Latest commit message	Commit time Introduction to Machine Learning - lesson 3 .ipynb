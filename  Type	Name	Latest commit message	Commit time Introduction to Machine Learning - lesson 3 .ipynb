{
    "nbformat_minor": 1, 
    "cells": [
        {
            "execution_count": 52, 
            "cell_type": "code", 
            "metadata": {}, 
            "outputs": [
                {
                    "output_type": "stream", 
                    "name": "stdout", 
                    "text": "Requirement not upgraded as not directly required: seaborn==0.9.0 in /opt/conda/envs/DSX-Python35/lib/python3.5/site-packages\nRequirement not upgraded as not directly required: numpy>=1.9.3 in /opt/conda/envs/DSX-Python35/lib/python3.5/site-packages (from seaborn==0.9.0)\nRequirement not upgraded as not directly required: pandas>=0.15.2 in /opt/conda/envs/DSX-Python35/lib/python3.5/site-packages (from seaborn==0.9.0)\nRequirement not upgraded as not directly required: matplotlib>=1.4.3 in /opt/conda/envs/DSX-Python35/lib/python3.5/site-packages (from seaborn==0.9.0)\nRequirement not upgraded as not directly required: scipy>=0.14.0 in /opt/conda/envs/DSX-Python35/lib/python3.5/site-packages (from seaborn==0.9.0)\nRequirement not upgraded as not directly required: python-dateutil>=2 in /opt/conda/envs/DSX-Python35/lib/python3.5/site-packages (from pandas>=0.15.2->seaborn==0.9.0)\nRequirement not upgraded as not directly required: pytz>=2011k in /opt/conda/envs/DSX-Python35/lib/python3.5/site-packages (from pandas>=0.15.2->seaborn==0.9.0)\nRequirement not upgraded as not directly required: six>=1.10 in /opt/conda/envs/DSX-Python35/lib/python3.5/site-packages (from matplotlib>=1.4.3->seaborn==0.9.0)\nRequirement not upgraded as not directly required: cycler>=0.10 in /opt/conda/envs/DSX-Python35/lib/python3.5/site-packages (from matplotlib>=1.4.3->seaborn==0.9.0)\nRequirement not upgraded as not directly required: pyparsing!=2.0.4,!=2.1.2,!=2.1.6,>=2.0.1 in /opt/conda/envs/DSX-Python35/lib/python3.5/site-packages (from matplotlib>=1.4.3->seaborn==0.9.0)\nRequirement not upgraded as not directly required: graphviz==0.1.0 in /opt/conda/envs/DSX-Python35/lib/python3.5/site-packages\n"
                }
            ], 
            "source": "import pandas as pd\nfrom datetime import datetime\n\nimport seaborn as sns\nfrom sklearn.metrics import accuracy_score\nfrom sklearn.model_selection import train_test_split\nimport numpy as np\n!pip install seaborn==0.9.0\n!pip install graphviz==0.1.0\nfrom sklearn.svm import LinearSVC\nfrom sklearn.svm import SVC\nfrom sklearn.dummy import DummyClassifier\nfrom sklearn.tree import DecisionTreeClassifier\nfrom sklearn.tree import export_graphviz\nfrom sklearn.preprocessing import StandardScaler\n\nSEED = 20\nnp.random.seed = SEED"
        }, 
        {
            "execution_count": 6, 
            "cell_type": "code", 
            "metadata": {}, 
            "outputs": [
                {
                    "execution_count": 6, 
                    "metadata": {}, 
                    "data": {
                        "text/html": "<div>\n<style scoped>\n    .dataframe tbody tr th:only-of-type {\n        vertical-align: middle;\n    }\n\n    .dataframe tbody tr th {\n        vertical-align: top;\n    }\n\n    .dataframe thead th {\n        text-align: right;\n    }\n</style>\n<table border=\"1\" class=\"dataframe\">\n  <thead>\n    <tr style=\"text-align: right;\">\n      <th></th>\n      <th>price</th>\n      <th>sold</th>\n      <th>model_age</th>\n      <th>km_per_year</th>\n    </tr>\n  </thead>\n  <tbody>\n    <tr>\n      <th>0</th>\n      <td>30941.02</td>\n      <td>1</td>\n      <td>18</td>\n      <td>35085.22134</td>\n    </tr>\n    <tr>\n      <th>1</th>\n      <td>40557.96</td>\n      <td>1</td>\n      <td>20</td>\n      <td>12622.05362</td>\n    </tr>\n    <tr>\n      <th>2</th>\n      <td>89627.50</td>\n      <td>0</td>\n      <td>12</td>\n      <td>11440.79806</td>\n    </tr>\n    <tr>\n      <th>3</th>\n      <td>95276.14</td>\n      <td>0</td>\n      <td>3</td>\n      <td>43167.32682</td>\n    </tr>\n    <tr>\n      <th>4</th>\n      <td>117384.68</td>\n      <td>1</td>\n      <td>4</td>\n      <td>12770.11290</td>\n    </tr>\n  </tbody>\n</table>\n</div>", 
                        "text/plain": "       price  sold  model_age  km_per_year\n0   30941.02     1         18  35085.22134\n1   40557.96     1         20  12622.05362\n2   89627.50     0         12  11440.79806\n3   95276.14     0          3  43167.32682\n4  117384.68     1          4  12770.11290"
                    }, 
                    "output_type": "execute_result"
                }
            ], 
            "source": "uri = 'https://gist.githubusercontent.com/guilhermesilveira/4d1d4a16ccbf6ea4e0a64a38a24ec884/raw/afd05cb0c796d18f3f5a6537053ded308ba94bf7/car-prices.csv'\ndata = pd.read_csv(uri)\nchange_map = {\n    'no' : 0,\n    'yes' : 1\n}\ndata.sold = data.sold.map(change_map)\ndata['model_age'] = datetime.today().year - data.model_year\ndata['km_per_year'] = data.mileage_per_year * 1.60934\ndata = data.drop(columns=['mileage_per_year', 'Unnamed: 0', 'model_year'], axis=1)\ndata.head()"
        }, 
        {
            "execution_count": 17, 
            "cell_type": "code", 
            "metadata": {}, 
            "outputs": [
                {
                    "output_type": "stream", 
                    "name": "stdout", 
                    "text": "Result 48.16%\n"
                }
            ], 
            "source": "x = data[['price', 'model_age', 'km_per_year']]\ny = data['sold']\n\n\ntrain_x, test_x, train_y, test_y =  train_test_split(x, y, stratify=y)\nmodel = LinearSVC()\nmodel.fit(train_x, train_y)\npredicts = model.predict(test_x)\naccuracy = accuracy_score(test_y, predicts) * 100\nprint('Result %.2f%%' % accuracy)"
        }, 
        {
            "execution_count": 18, 
            "cell_type": "code", 
            "metadata": {}, 
            "outputs": [
                {
                    "output_type": "stream", 
                    "name": "stdout", 
                    "text": "Result 51.68%\n"
                }
            ], 
            "source": "dummy_stratify = DummyClassifier()\ndummy_stratify.fit(train_x, train_y)\naccuracy = dummy_stratify.score(test_x, test_y) * 100\nprint('Result %.2f%%' % accuracy)\n"
        }, 
        {
            "execution_count": 20, 
            "cell_type": "code", 
            "metadata": {}, 
            "outputs": [
                {
                    "output_type": "stream", 
                    "name": "stdout", 
                    "text": "Result 77.04%\n"
                }
            ], 
            "source": "raw_train_x, raw_test_x, train_y, test_y =  train_test_split(x, y, stratify=y)\n\nscaler = StandardScaler()\nscaler.fit(raw_train_x)\ntrain_x = scaler.transform(raw_train_x)\ntest_x = scaler.transform(raw_test_x)\n\nmodel = SVC()\nmodel.fit(train_x, train_y)\npredicts = model.predict(test_x)\naccuracy = accuracy_score(test_y, predicts) * 100\nprint('Result %.2f%%' % accuracy)"
        }, 
        {
            "execution_count": 50, 
            "cell_type": "code", 
            "metadata": {}, 
            "outputs": [
                {
                    "output_type": "stream", 
                    "name": "stdout", 
                    "text": "Result 71.52%\n"
                }
            ], 
            "source": "train_x, test_x, train_y, test_y =  train_test_split(x, y, stratify=y)\n\n\nmodel = DecisionTreeClassifier()\nmodel.fit(train_x, train_y)\npredicts = model.predict(test_x)\naccuracy = accuracy_score(test_y, predicts) * 100\nprint('Result %.2f%%' % accuracy)\ndot_data = export_graphviz(model, out_file =None)\n"
        }, 
        {
            "execution_count": null, 
            "cell_type": "code", 
            "metadata": {}, 
            "outputs": [], 
            "source": ""
        }
    ], 
    "metadata": {
        "kernelspec": {
            "display_name": "Python 3.5", 
            "name": "python3", 
            "language": "python"
        }, 
        "language_info": {
            "mimetype": "text/x-python", 
            "nbconvert_exporter": "python", 
            "version": "3.5.5", 
            "name": "python", 
            "file_extension": ".py", 
            "pygments_lexer": "ipython3", 
            "codemirror_mode": {
                "version": 3, 
                "name": "ipython"
            }
        }
    }, 
    "nbformat": 4
}